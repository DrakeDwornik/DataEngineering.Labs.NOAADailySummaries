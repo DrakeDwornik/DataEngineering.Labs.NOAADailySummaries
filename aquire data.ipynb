{
 "cells": [
  {
   "cell_type": "code",
   "execution_count": 7,
   "id": "05e3eb95-e7f8-48df-b8b9-545c2ba6e020",
   "metadata": {},
   "outputs": [],
   "source": [
    "import urllib\n",
    "import json\n"
   ]
  },
  {
   "cell_type": "code",
   "execution_count": 8,
   "outputs": [],
   "source": [
    "starting_offset = 1\n",
    "params = {\"datasetid\": \"GHCND\", \"locationid\": \"FIPS:10003\", \"startdate\": \"2018-01-01\", \"enddate\": \"2018-01-31\"}\n",
    "base_url = f\"https://www.ncdc.noaa.gov/cdo-web/api/v2/data\"\n",
    "headers = {\"Accept\": \"*/*\", \"Accept-Encoding\": \"gzip, deflate, br\", \"Connection\": \"keep-alive\",\n",
    "       \"token\": \"oebeUQMqFfjWpaiLWLxheFizGqkQDhOw\", \"Content\": \"application/json\"}\n"
   ],
   "metadata": {
    "collapsed": false,
    "pycharm": {
     "name": "#%%\n"
    }
   }
  },
  {
   "cell_type": "code",
   "execution_count": 9,
   "outputs": [],
   "source": [
    "def parse_params(params) -> str:\n",
    "    parsed_params = \"\"\n",
    "    separator = \"?\"\n",
    "    for key, value in params.items():\n",
    "        parsed_params += separator\n",
    "        parsed_params += f\"{key}={value}\"\n",
    "        separator = \"&\"\n",
    "    return parsed_params\n"
   ],
   "metadata": {
    "collapsed": false,
    "pycharm": {
     "name": "#%%\n"
    }
   }
  },
  {
   "cell_type": "markdown",
   "source": [],
   "metadata": {
    "collapsed": false
   }
  },
  {
   "cell_type": "code",
   "execution_count": 10,
   "outputs": [
    {
     "data": {
      "text/plain": "[{'date': '2018-01-01T00:00:00',\n  'datatype': 'PRCP',\n  'station': 'GHCND:US1DENC0010',\n  'attributes': 'T,,N,',\n  'value': 0},\n {'date': '2018-01-01T00:00:00',\n  'datatype': 'SNOW',\n  'station': 'GHCND:US1DENC0010',\n  'attributes': 'T,,N,',\n  'value': 0},\n {'date': '2018-01-01T00:00:00',\n  'datatype': 'SNWD',\n  'station': 'GHCND:US1DENC0010',\n  'attributes': 'T,,N,',\n  'value': 0},\n {'date': '2018-01-01T00:00:00',\n  'datatype': 'WESD',\n  'station': 'GHCND:US1DENC0010',\n  'attributes': 'T,,N,',\n  'value': 0},\n {'date': '2018-01-01T00:00:00',\n  'datatype': 'WESF',\n  'station': 'GHCND:US1DENC0010',\n  'attributes': 'T,,N,',\n  'value': 0},\n {'date': '2018-01-01T00:00:00',\n  'datatype': 'PRCP',\n  'station': 'GHCND:US1DENC0013',\n  'attributes': ',,N,',\n  'value': 0},\n {'date': '2018-01-01T00:00:00',\n  'datatype': 'SNOW',\n  'station': 'GHCND:US1DENC0013',\n  'attributes': ',,N,',\n  'value': 0},\n {'date': '2018-01-01T00:00:00',\n  'datatype': 'SNWD',\n  'station': 'GHCND:US1DENC0013',\n  'attributes': 'T,,N,',\n  'value': 0},\n {'date': '2018-01-01T00:00:00',\n  'datatype': 'WESD',\n  'station': 'GHCND:US1DENC0013',\n  'attributes': 'T,,N,',\n  'value': 0},\n {'date': '2018-01-01T00:00:00',\n  'datatype': 'WESF',\n  'station': 'GHCND:US1DENC0013',\n  'attributes': ',,N,',\n  'value': 0}]"
     },
     "execution_count": 10,
     "metadata": {},
     "output_type": "execute_result"
    }
   ],
   "source": [
    "def get_data_once(base_url, params, headers,  limit=1000, offset=1):\n",
    "    url = f\"{base_url}{parse_params(params)}&limit={limit}&offset={offset}\"\n",
    "    request = urllib.request.Request(url, headers=headers)\n",
    "    response = urllib.request.urlopen(request)\n",
    "    json_data = json.loads(response.read())\n",
    "    if json_data != {}:\n",
    "        return json_data['results']\n",
    "    else:\n",
    "        return {}\n",
    "\n",
    "get_data_once(base_url, params, headers, 10, 10)"
   ],
   "metadata": {
    "collapsed": false,
    "pycharm": {
     "name": "#%%\n"
    }
   }
  },
  {
   "cell_type": "code",
   "execution_count": 11,
   "id": "da956553-2f94-44b8-a608-17c311e6d0e3",
   "metadata": {
    "pycharm": {
     "name": "#%%\n"
    }
   },
   "outputs": [],
   "source": [
    "def get_all_data(base_url, params, headers, limit=1000):\n",
    "    offset = 1\n",
    "    data_exists = True\n",
    "    file_no = 0\n",
    "    while data_exists:\n",
    "        json_data = get_data_once(base_url, params, headers, limit, offset)\n",
    "        if json_data != {}:\n",
    "            with open(f\"json_{file_no}.json\", \"w\") as file:\n",
    "                json.dump(json_data, file)\n",
    "            offset += 1000\n",
    "            file_no += 1\n",
    "        else:\n",
    "            data_exists = False\n",
    "\n",
    "get_all_data(base_url, params, headers)"
   ]
  },
  {
   "cell_type": "code",
   "execution_count": null,
   "outputs": [],
   "source": [],
   "metadata": {
    "collapsed": false,
    "pycharm": {
     "name": "#%%\n"
    }
   }
  }
 ],
 "metadata": {
  "kernelspec": {
   "display_name": "stats",
   "language": "python",
   "name": "stats"
  },
  "language_info": {
   "codemirror_mode": {
    "name": "ipython",
    "version": 3
   },
   "file_extension": ".py",
   "mimetype": "text/x-python",
   "name": "python",
   "nbconvert_exporter": "python",
   "pygments_lexer": "ipython3",
   "version": "3.9.8"
  }
 },
 "nbformat": 4,
 "nbformat_minor": 5
}